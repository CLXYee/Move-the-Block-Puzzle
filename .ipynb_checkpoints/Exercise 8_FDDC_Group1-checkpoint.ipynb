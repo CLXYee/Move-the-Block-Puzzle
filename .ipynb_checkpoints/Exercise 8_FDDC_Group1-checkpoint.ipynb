{
 "cells": [
  {
   "cell_type": "code",
   "execution_count": 1,
   "id": "8e257bd7",
   "metadata": {},
   "outputs": [],
   "source": [
    "import numpy as np\n",
    "import pandas as pd\n",
    "import seaborn as sns\n",
    "import matplotlib.pyplot as plt\n",
    "from seaborn import heatmap\n",
    "import networkx as nx\n",
    "import copy\n",
    "import queue\n",
    "from collections import deque"
   ]
  },
  {
   "cell_type": "markdown",
   "id": "6cf55183",
   "metadata": {},
   "source": [
    "# Visualising our game's initial settings\n",
    "Our aim is to move block with index 4 to the escape point [1,2]."
   ]
  },
  {
   "cell_type": "code",
   "execution_count": 2,
   "id": "1e7dbfa1",
   "metadata": {},
   "outputs": [],
   "source": [
    "#create game, different indexes represent different blocks on the board\n",
    "#define goal position (escape position)\n",
    "game = {\n",
    "    \"blocks\": [\n",
    "        {\"index\": 1, \"shape\": [1, 2], \"position\": [3, 1]},\n",
    "        {\"index\": 2, \"shape\": [2, 1], \"position\": [0, 2]},\n",
    "        {\"index\": 3, \"shape\": [2, 1], \"position\": [1, 3]},\n",
    "        {\"index\": 4, \"shape\": [1, 2], \"position\": [1, 0]}\n",
    "    ],\n",
    "    \"boardSize\": [4, 4],\n",
    "    \"escapePoint\": [1,2],\n",
    "}\n",
    "\n",
    "# Initial board setup\n",
    "board = [[0 for _ in range(game[\"boardSize\"][0])] for _ in range(game[\"boardSize\"][1])]\n",
    "\n",
    "# Place blocks on the board\n",
    "for block in game[\"blocks\"]:\n",
    "    shape = block[\"shape\"]\n",
    "    position = block[\"position\"]\n",
    "    for i in range(shape[0]):\n",
    "        for j in range(shape[1]):\n",
    "            board[position[0] + i][position[1] + j] = block[\"index\"]"
   ]
  },
  {
   "cell_type": "code",
   "execution_count": 3,
   "id": "7826e212",
   "metadata": {},
   "outputs": [],
   "source": [
    "def print_board(board):\n",
    "    for row in board:\n",
    "        print(\" \".join(str(cell) if cell != 0 else \"#\" for cell in row))\n",
    "\n",
    "def display_heatmap(board):\n",
    "    df = pd.DataFrame(board)\n",
    "    plt.figure(figsize=(8, 6))\n",
    "    sns.heatmap(df, cmap=\"gray\", linewidths=0.1, linecolor=\"black\", annot=True, fmt=\"d\", cbar=False, square=True)\n",
    "    plt.xlabel(\"Column\")\n",
    "    plt.ylabel(\"Row\")\n",
    "    plt.title(\"Klotski Maze\")\n",
    "    plt.show()"
   ]
  },
  {
   "cell_type": "code",
   "execution_count": 4,
   "id": "f1bb04b5",
   "metadata": {},
   "outputs": [
    {
     "name": "stdout",
     "output_type": "stream",
     "text": [
      "\n",
      "Initial Position of Blocks:\n",
      "# # 2 #\n",
      "4 4 2 3\n",
      "# # # 3\n",
      "# 1 1 #\n",
      "\n",
      "Displaying Heatmap:\n"
     ]
    },
    {
     "data": {
      "image/png": "[encoded data removed]",
      "text/plain": [
       "<Figure size 800x600 with 1 Axes>"
      ]
     },
     "metadata": {},
     "output_type": "display_data"
    }
   ],
   "source": [
    "print(\"\\nInitial Position of Blocks:\")\n",
    "print_board(board)\n",
    "\n",
    "print(\"\\nDisplaying Heatmap:\")\n",
    "display_heatmap(board)"
   ]
  },
  {
   "cell_type": "code",
   "execution_count": 5,
   "id": "408ef64f",
   "metadata": {},
   "outputs": [
    {
     "name": "stdout",
     "output_type": "stream",
     "text": [
      "# # 2 #\n",
      "4 4 2 3\n",
      "# # # 3\n",
      "# 1 1 #\n"
     ]
    }
   ],
   "source": [
    "def convert_board(game):\n",
    "    board = [[0 for _ in range(game[\"boardSize\"][0])] for _ in range(game[\"boardSize\"][1])]\n",
    "\n",
    "    # Place blocks on the board\n",
    "    for block in game[\"blocks\"]:\n",
    "        shape = block[\"shape\"]\n",
    "        position = block[\"position\"]\n",
    "        for i in range(shape[0]):\n",
    "            for j in range(shape[1]):\n",
    "                board[position[0] + i][position[1] + j] = block[\"index\"]\n",
    "    return board\n",
    "\n",
    "initial_board = convert_board(game)\n",
    "print_board(initial_board)"
   ]
  },
  {
   "cell_type": "markdown",
   "id": "791261c1",
   "metadata": {},
   "source": [
    "# Define repeatedly used function\n",
    "`find_block`: find the position of a specific block <br>\n",
    "`get_shape`: get the shape of a specific block <br>\n",
    "`is_valid_move`: determine if the move of a block is valid <br>\n",
    "`move_block`: move a specific block in a specific direction by one step <br>\n",
    "`revert_board`: return the board to the current state after creating a new board to be append into the queue <br>"
   ]
  },
  {
   "cell_type": "code",
   "execution_count": 6,
   "id": "08553c43",
   "metadata": {},
   "outputs": [],
   "source": [
    "def find_block(board, block_index):\n",
    "    for i in range(4):\n",
    "        for j in range(4):\n",
    "            if(board[i][j] == block_index):\n",
    "                return i,j\n",
    "            \n",
    "def get_shape(block_index):\n",
    "    if block_index == 1 or block_index == 4:\n",
    "        return 1,2\n",
    "    else:\n",
    "        return 2,1\n",
    "\n",
    "def is_valid_move(board, block_index, direction):\n",
    "        x, y = find_block(board, block_index)\n",
    "        shape_x, shape_y = get_shape(block_index)\n",
    "        \n",
    "        if direction == \"up\" and shape_x == 2 and shape_y == 1:\n",
    "            return x > 0 and board[x-1][y] == 0\n",
    "        elif direction == \"down\" and shape_x == 2 and shape_y == 1:\n",
    "            return x < game[\"boardSize\"][0] - 2 and board[x+2][y] == 0\n",
    "        elif direction == \"left\" and shape_x == 1 and shape_y == 2:\n",
    "            return y > 0 and board[x][y-1] == 0\n",
    "        elif direction == \"right\" and shape_x == 1 and shape_y == 2:\n",
    "            return y < game[\"boardSize\"][1] - 2 and board[x][y+2] == 0\n",
    "        return False\n",
    "    \n",
    "def move_block(board, block_index, direction):\n",
    "    x, y = find_block(board, block_index)\n",
    "    if (is_valid_move(board, block_index, direction)==False):\n",
    "        print(\"invalid move!\")\n",
    "        return board.copy()\n",
    "    \n",
    "    new_board = board\n",
    "        \n",
    "    if direction == \"up\":\n",
    "        new_board[x-1][y] = block_index\n",
    "        new_board[x+1][y] = 0\n",
    "    elif direction == \"down\":\n",
    "        new_board[x+2][y] = block_index\n",
    "        new_board[x][y] = 0\n",
    "    elif direction == \"left\":\n",
    "        new_board[x][y-1] = block_index\n",
    "        new_board[x][y+1] = 0\n",
    "    elif direction == \"right\":\n",
    "        new_board[x][y+2] = block_index\n",
    "        new_board[x][y] = 0\n",
    "    return new_board\n",
    "\n",
    "def revert_board(board, block_index, direction):\n",
    "    if direction == \"up\":\n",
    "        current_board = move_block(board,block_index,\"down\")\n",
    "    elif direction == \"down\":\n",
    "        current_board = move_block(board,block_index,\"up\")\n",
    "    elif direction == \"left\":\n",
    "        current_board = move_block(board,block_index,\"right\")\n",
    "    else:\n",
    "        current_board = move_block(board,block_index,\"left\")\n",
    "    return current_board\n",
    "\n",
    "def print_queue(queue):\n",
    "    \"\"\"\n",
    "    Print the contents of the queue.\n",
    "    \n",
    "    Args:\n",
    "    - queue (deque): The queue to be printed.\n",
    "    \"\"\"\n",
    "    print(\"The Queue\")\n",
    "    for item in queue:\n",
    "        board, moves = item\n",
    "        print(\"Current Board:\")\n",
    "        print_board(board)\n",
    "        print(\"Moves:\", moves)\n",
    "        print()"
   ]
  },
  {
   "cell_type": "markdown",
   "id": "0bc64f86",
   "metadata": {},
   "source": [
    "# Method 1: Breath First Search (BFS)"
   ]
  },
  {
   "cell_type": "code",
   "execution_count": 7,
   "id": "b439b2b3",
   "metadata": {},
   "outputs": [
    {
     "name": "stdout",
     "output_type": "stream",
     "text": [
      "[(1, 'left'), (2, 'down'), (2, 'down'), (3, 'down'), (4, 'right'), (4, 'right')]\n",
      "Final Position of Blocks:\n",
      "# # # #\n",
      "# # 4 4\n",
      "# # 2 3\n",
      "1 1 2 3\n",
      "\n",
      "Total Number of Moves: 6\n",
      "\n",
      "Total Nodes Visited:  23\n",
      "\n",
      "Displaying Heatmap:\n"
     ]
    },
    {
     "data": {
      "image/png": "[encoded data removed]",
      "text/plain": [
       "<Figure size 800x600 with 1 Axes>"
      ]
     },
     "metadata": {},
     "output_type": "display_data"
    }
   ],
   "source": [
    "def solve_bfs(game):\n",
    "    start_board = convert_board(game)\n",
    "        \n",
    "    visited = set()\n",
    "    queue = deque([(start_board, [])])\n",
    "    num_moves = 0\n",
    "    final_board = None\n",
    "    nodes_visited = 0\n",
    "        \n",
    "    while queue:\n",
    "        current_board, moves = queue.popleft()\n",
    "        current_board = copy.deepcopy(current_board)  # Deep copy the current board\n",
    "        \n",
    "        if tuple(map(tuple, current_board)) in visited:\n",
    "            continue\n",
    "        visited.add(tuple(map(tuple, current_board)))\n",
    "        nodes_visited += 1\n",
    "            \n",
    "        if current_board[1][2] == 4 and current_board[1][3] == 4:\n",
    "            final_board = current_board\n",
    "            num_moves = len(moves)\n",
    "            break\n",
    "            \n",
    "        for i in range(4):\n",
    "            block_index = i + 1\n",
    "            for direction in [\"up\", \"down\", \"left\", \"right\"]:\n",
    "                if is_valid_move(current_board, block_index, direction):\n",
    "                    new_board = move_block(current_board, block_index, direction)\n",
    "                    queue.append((copy.deepcopy(new_board), moves + [(block_index, direction)]))  # Add the new move to moves\n",
    "                    revert_board(new_board, block_index, direction) # Revert the move for backtracking (undo the changes made by move_block)\n",
    "                    \n",
    "    print(moves)\n",
    "    return final_board, num_moves, nodes_visited    \n",
    "\n",
    "final_board, num_moves, nodes_visited = solve_bfs(game)\n",
    "\n",
    "if final_board is not None:\n",
    "    print(\"Final Position of Blocks:\")\n",
    "    print_board(final_board)\n",
    "    print(\"\\nTotal Number of Moves:\", num_moves)\n",
    "    print(\"\\nTotal Nodes Visited: \", nodes_visited)\n",
    "    print(\"\\nDisplaying Heatmap:\")\n",
    "    display_heatmap(final_board)\n",
    "else:\n",
    "    print(\"Cannot solve the puzzle with the given move.\")\n"
   ]
  },
  {
   "cell_type": "markdown",
   "id": "2579c6d6",
   "metadata": {},
   "source": [
    "# Method 2: Depth First Search (DFS)"
   ]
  },
  {
   "cell_type": "code",
   "execution_count": 8,
   "id": "a8a3725c",
   "metadata": {
    "scrolled": true
   },
   "outputs": [
    {
     "name": "stdout",
     "output_type": "stream",
     "text": [
      "[(3, 'down'), (2, 'down'), (3, 'up'), (3, 'up'), (2, 'up'), (1, 'left'), (3, 'down'), (3, 'down'), (2, 'down'), (3, 'up'), (3, 'up'), (2, 'down'), (4, 'right'), (3, 'down'), (4, 'left'), (3, 'down'), (4, 'right'), (4, 'right')]\n",
      "Final Position of Blocks:\n",
      "# # # #\n",
      "# # 4 4\n",
      "# # 2 3\n",
      "1 1 2 3\n",
      "\n",
      "Total Number of Moves: 18\n",
      "\n",
      "Total Nodes Visited:  23\n",
      "\n",
      "Displaying Heatmap:\n"
     ]
    },
    {
     "data": {
      "image/png": "[encoded data removed]",
      "text/plain": [
       "<Figure size 800x600 with 1 Axes>"
      ]
     },
     "metadata": {},
     "output_type": "display_data"
    }
   ],
   "source": [
    "def solve_dfs(game):\n",
    "    start_board = convert_board(game)\n",
    "        \n",
    "    visited = set()\n",
    "    stack = deque([(start_board, [])])\n",
    "    num_moves = 0\n",
    "    final_board = None\n",
    "    nodes_visited = 0\n",
    "        \n",
    "    while queue:\n",
    "        current_board, moves = stack.pop()\n",
    "        current_board = copy.deepcopy(current_board)  # Deep copy the current board\n",
    "        \n",
    "        if tuple(map(tuple, current_board)) in visited:\n",
    "            continue\n",
    "        visited.add(tuple(map(tuple, current_board)))\n",
    "        nodes_visited += 1\n",
    "            \n",
    "        if current_board[1][2] == 4 and current_board[1][3] == 4:\n",
    "            final_board = current_board\n",
    "            num_moves = len(moves)\n",
    "            break\n",
    "            \n",
    "        for i in range(4):\n",
    "            block_index = i + 1\n",
    "            for direction in [\"up\", \"down\", \"left\", \"right\"]:\n",
    "                if is_valid_move(current_board, block_index, direction):\n",
    "                    new_board = move_block(current_board, block_index, direction)\n",
    "                    stack.append((copy.deepcopy(new_board), moves + [(block_index, direction)]))  # Add the new move to moves\n",
    "                    revert_board(new_board, block_index, direction) # Revert the move for backtracking (undo the changes made by move_block)\n",
    "                    \n",
    "    print(moves)\n",
    "    return final_board, num_moves, nodes_visited    \n",
    "\n",
    "final_board, num_moves, nodes_visited = solve_dfs(game)\n",
    "\n",
    "if final_board is not None:\n",
    "    print(\"Final Position of Blocks:\")\n",
    "    print_board(final_board)\n",
    "    print(\"\\nTotal Number of Moves:\", num_moves)\n",
    "    print(\"\\nTotal Nodes Visited: \", nodes_visited)\n",
    "    print(\"\\nDisplaying Heatmap:\")\n",
    "    display_heatmap(final_board)\n",
    "else:\n",
    "    print(\"Cannot solve the puzzle with the given move.\")\n"
   ]
  },
  {
   "cell_type": "markdown",
   "id": "e655de4a",
   "metadata": {},
   "source": [
    "# Method 3: Uniform Cost Search (UCS)"
   ]
  },
  {
   "cell_type": "code",
   "execution_count": 9,
   "id": "796bce85",
   "metadata": {},
   "outputs": [
    {
     "name": "stdout",
     "output_type": "stream",
     "text": [
      "[(1, 'left'), (2, 'down'), (2, 'down'), (3, 'down'), (4, 'right'), (4, 'right')]\n",
      "Final Position of Blocks:\n",
      "# # # #\n",
      "# # 4 4\n",
      "# # 2 3\n",
      "1 1 2 3\n",
      "\n",
      "Total Number of Moves: 6\n",
      "\n",
      "Total Nodes Visited:  23\n",
      "\n",
      "Displaying Heatmap:\n"
     ]
    },
    {
     "data": {
      "image/png": "[encoded data removed]",
      "text/plain": [
       "<Figure size 800x600 with 1 Axes>"
      ]
     },
     "metadata": {},
     "output_type": "display_data"
    }
   ],
   "source": [
    "from queue import PriorityQueue\n",
    "\n",
    "def solve_ucs(game):\n",
    "    start_board = convert_board(game)\n",
    "    \n",
    "    visited = set()\n",
    "    priority_queue = PriorityQueue()\n",
    "    priority_queue.put((0, (start_board, [])))  # Priority queue with initial cost 0\n",
    "    \n",
    "    num_moves = 0\n",
    "    final_board = None\n",
    "    nodes_visited = 0\n",
    "    \n",
    "    while not priority_queue.empty():\n",
    "        cost, (current_board, moves) = priority_queue.get()\n",
    "        current_board = copy.deepcopy(current_board)  # Deep copy the current board\n",
    "        \n",
    "        if tuple(map(tuple, current_board)) in visited:\n",
    "            continue\n",
    "        visited.add(tuple(map(tuple, current_board)))\n",
    "        nodes_visited += 1\n",
    "        \n",
    "        if current_board[1][2] == 4 and current_board[1][3] == 4:\n",
    "            final_board = current_board\n",
    "            num_moves = len(moves)\n",
    "            break\n",
    "        \n",
    "        for i in range(4):\n",
    "            block_index = i + 1\n",
    "            for direction in [\"up\", \"down\", \"left\", \"right\"]:\n",
    "                if is_valid_move(current_board, block_index, direction):\n",
    "                    new_board = move_block(current_board, block_index, direction)\n",
    "                    priority_queue.put((cost + 1, (copy.deepcopy(new_board), moves + [(block_index, direction)])))  # Add the new move to moves\n",
    "                    revert_board(new_board, block_index, direction) # Revert the move for backtracking (undo the changes made by move_block)\n",
    "        \n",
    "    print(moves)\n",
    "    return final_board, num_moves, nodes_visited\n",
    "\n",
    "final_board, num_moves, nodes_visited = solve_ucs(game)\n",
    "\n",
    "if final_board is not None:\n",
    "    print(\"Final Position of Blocks:\")\n",
    "    print_board(final_board)\n",
    "    print(\"\\nTotal Number of Moves:\", num_moves)\n",
    "    print(\"\\nTotal Nodes Visited: \", nodes_visited)\n",
    "    print(\"\\nDisplaying Heatmap:\")\n",
    "    display_heatmap(final_board)\n",
    "else:\n",
    "    print(\"Cannot solve the puzzle with the given move.\")\n"
   ]
  },
  {
   "cell_type": "markdown",
   "id": "7fa9e9de",
   "metadata": {},
   "source": [
    "# Method 4: Greedy-Search (GS)"
   ]
  },
  {
   "cell_type": "code",
   "execution_count": 20,
   "id": "4f848503",
   "metadata": {},
   "outputs": [
    {
     "name": "stdout",
     "output_type": "stream",
     "text": [
      "Final Position of Blocks:\n",
      "# # # #\n",
      "# # 4 4\n",
      "# # 2 3\n",
      "1 1 2 3\n",
      "\n",
      "Total Number of Moves: 6\n",
      "\n",
      "Total Nodes Visited:  7\n",
      "\n",
      "Displaying Heatmap:\n"
     ]
    },
    {
     "data": {
      "image/png": "[encoded data removed]",
      "text/plain": [
       "<Figure size 800x600 with 1 Axes>"
      ]
     },
     "metadata": {},
     "output_type": "display_data"
    }
   ],
   "source": [
    "def heuristic(board):\n",
    "    i,j = find_block(board,4)\n",
    "    return abs(3-(j+1))\n",
    "\n",
    "def solve_gs(game):\n",
    "    start_board = convert_board(game)\n",
    "    \n",
    "    visited = set()\n",
    "    priority_queue = PriorityQueue()\n",
    "    priority_queue.put((0, start_board))  # Priority queue with initial cost 0\n",
    "    \n",
    "    num_moves = 0\n",
    "    final_board = None\n",
    "    nodes_visited = 0\n",
    "    \n",
    "    while not priority_queue.empty():\n",
    "        _, current_board = priority_queue.get()\n",
    "        \n",
    "        if tuple(map(tuple, current_board)) in visited:\n",
    "            continue\n",
    "        visited.add(tuple(map(tuple, current_board)))\n",
    "        nodes_visited += 1\n",
    "        \n",
    "        if current_board[1][2] == 4 and current_board[1][3] == 4:\n",
    "            final_board = current_board\n",
    "            break\n",
    "        \n",
    "        for i in range(4):\n",
    "            block_index = i + 1\n",
    "            for direction in [\"up\", \"down\", \"left\", \"right\"]:\n",
    "                if is_valid_move(current_board, block_index, direction):\n",
    "                    new_board = move_block(current_board, block_index, direction)\n",
    "                    priority = heuristic(new_board)  # Greedy search uses only heuristic as priority\n",
    "                    priority_queue.put((priority, copy.deepcopy(new_board)))\n",
    "                    revert_board(new_board, block_index, direction)\n",
    "        \n",
    "    num_moves = len(visited) - 1  # Number of visited nodes minus the start node\n",
    "    \n",
    "    return final_board, num_moves, nodes_visited\n",
    "\n",
    "final_board, num_moves, nodes_visited = solve_gs(game)\n",
    "\n",
    "if final_board is not None:\n",
    "    print(\"Final Position of Blocks:\")\n",
    "    print_board(final_board)\n",
    "    print(\"\\nTotal Number of Moves:\", num_moves)\n",
    "    print(\"\\nTotal Nodes Visited: \", nodes_visited)\n",
    "    print(\"\\nDisplaying Heatmap:\")\n",
    "    display_heatmap(final_board)\n",
    "else:\n",
    "    print(\"Cannot solve the puzzle with the given move.\")\n"
   ]
  },
  {
   "cell_type": "markdown",
   "id": "ff1c8810",
   "metadata": {},
   "source": [
    "# Method 5: A *Search \n",
    "（还在研究，不知道可不可行）"
   ]
  },
  {
   "cell_type": "code",
   "execution_count": 21,
   "id": "45ff65f6",
   "metadata": {},
   "outputs": [
    {
     "ename": "KeyError",
     "evalue": "4",
     "output_type": "error",
     "traceback": [
      "\u001b[1;31m---------------------------------------------------------------------------\u001b[0m",
      "\u001b[1;31mKeyError\u001b[0m                                  Traceback (most recent call last)",
      "Cell \u001b[1;32mIn[21], line 57\u001b[0m\n\u001b[0;32m     54\u001b[0m     \u001b[38;5;28mprint\u001b[39m(moves)\n\u001b[0;32m     55\u001b[0m     \u001b[38;5;28;01mreturn\u001b[39;00m final_board, num_moves, nodes_visited\n\u001b[1;32m---> 57\u001b[0m final_board, num_moves, nodes_visited \u001b[38;5;241m=\u001b[39m solve_a_star(game)\n\u001b[0;32m     59\u001b[0m \u001b[38;5;28;01mif\u001b[39;00m final_board \u001b[38;5;129;01mis\u001b[39;00m \u001b[38;5;129;01mnot\u001b[39;00m \u001b[38;5;28;01mNone\u001b[39;00m:\n\u001b[0;32m     60\u001b[0m     \u001b[38;5;28mprint\u001b[39m(\u001b[38;5;124m\"\u001b[39m\u001b[38;5;124mFinal Position of Blocks:\u001b[39m\u001b[38;5;124m\"\u001b[39m)\n",
      "Cell \u001b[1;32mIn[21], line 50\u001b[0m, in \u001b[0;36msolve_a_star\u001b[1;34m(game)\u001b[0m\n\u001b[0;32m     48\u001b[0m \u001b[38;5;28;01mif\u001b[39;00m is_valid_move(current_board, block_index, direction):\n\u001b[0;32m     49\u001b[0m     new_board \u001b[38;5;241m=\u001b[39m move_block(current_board, block_index, direction)\n\u001b[1;32m---> 50\u001b[0m     cost \u001b[38;5;241m=\u001b[39m \u001b[38;5;28mlen\u001b[39m(moves) \u001b[38;5;241m+\u001b[39m \u001b[38;5;241m1\u001b[39m \u001b[38;5;241m+\u001b[39m heuristic(new_board)  \u001b[38;5;66;03m# Actual cost + heuristic estimate\u001b[39;00m\n\u001b[0;32m     51\u001b[0m     priority_queue\u001b[38;5;241m.\u001b[39mput((cost, (copy\u001b[38;5;241m.\u001b[39mdeepcopy(new_board), moves \u001b[38;5;241m+\u001b[39m [(block_index, direction)])))  \u001b[38;5;66;03m# Add the new move to moves\u001b[39;00m\n\u001b[0;32m     52\u001b[0m     revert_board(new_board, block_index, direction)\n",
      "Cell \u001b[1;32mIn[21], line 13\u001b[0m, in \u001b[0;36mheuristic\u001b[1;34m(board)\u001b[0m\n\u001b[0;32m     11\u001b[0m \u001b[38;5;28;01mif\u001b[39;00m board[i][j] \u001b[38;5;241m!=\u001b[39m \u001b[38;5;241m0\u001b[39m:  \u001b[38;5;66;03m# Skip empty spaces\u001b[39;00m\n\u001b[0;32m     12\u001b[0m     block \u001b[38;5;241m=\u001b[39m board[i][j]\n\u001b[1;32m---> 13\u001b[0m     goal_i, goal_j \u001b[38;5;241m=\u001b[39m goal_positions[block]\n\u001b[0;32m     14\u001b[0m     distance \u001b[38;5;241m=\u001b[39m \u001b[38;5;28mabs\u001b[39m(i \u001b[38;5;241m-\u001b[39m goal_i) \u001b[38;5;241m+\u001b[39m \u001b[38;5;28mabs\u001b[39m(j \u001b[38;5;241m-\u001b[39m goal_j)\n\u001b[0;32m     15\u001b[0m     total_distance \u001b[38;5;241m+\u001b[39m\u001b[38;5;241m=\u001b[39m distance\n",
      "\u001b[1;31mKeyError\u001b[0m: 4"
     ]
    }
   ],
   "source": [
    "def heuristic(board):\n",
    "    goal_positions = {\n",
    "        1: (1,2),  # Example goal position for block 1\n",
    "        2: (1,3),  # Example goal position for block 2\n",
    "        # Define goal positions for all blocks here\n",
    "    }\n",
    "    \n",
    "    total_distance = 0\n",
    "    for i in range(len(board)):\n",
    "        for j in range(len(board[0])):\n",
    "            if board[i][j] != 0:  # Skip empty spaces\n",
    "                block = board[i][j]\n",
    "                goal_i, goal_j = goal_positions[block]\n",
    "                distance = abs(i - goal_i) + abs(j - goal_j)\n",
    "                total_distance += distance\n",
    "                \n",
    "    return total_distance\n",
    "\n",
    "\n",
    "def solve_a_star(game):\n",
    "    start_board = convert_board(game)\n",
    "    \n",
    "    visited = set()\n",
    "    priority_queue = PriorityQueue()\n",
    "    priority_queue.put((0, (start_board, [])))  # Priority queue with initial cost 0\n",
    "    \n",
    "    num_moves = 0\n",
    "    final_board = None\n",
    "    nodes_visited = 0\n",
    "    \n",
    "    while not priority_queue.empty():\n",
    "        _, (current_board, moves) = priority_queue.get()\n",
    "        current_board = copy.deepcopy(current_board)  # Deep copy the current board\n",
    "        \n",
    "        if tuple(map(tuple, current_board)) in visited:\n",
    "            continue\n",
    "        visited.add(tuple(map(tuple, current_board)))\n",
    "        nodes_visited += 1\n",
    "        \n",
    "        if current_board[1][2] == 4 and current_board[1][3] == 4:\n",
    "            final_board = current_board\n",
    "            num_moves = len(moves)\n",
    "            break\n",
    "        \n",
    "        for i in range(4):\n",
    "            block_index = i + 1\n",
    "            for direction in [\"up\", \"down\", \"left\", \"right\"]:\n",
    "                if is_valid_move(current_board, block_index, direction):\n",
    "                    new_board = move_block(current_board, block_index, direction)\n",
    "                    cost = len(moves) + 1 + heuristic(new_board)  # Actual cost + heuristic estimate\n",
    "                    priority_queue.put((cost, (copy.deepcopy(new_board), moves + [(block_index, direction)])))  # Add the new move to moves\n",
    "                    revert_board(new_board, block_index, direction)\n",
    "        \n",
    "    print(moves)\n",
    "    return final_board, num_moves, nodes_visited\n",
    "\n",
    "final_board, num_moves, nodes_visited = solve_a_star(game)\n",
    "\n",
    "if final_board is not None:\n",
    "    print(\"Final Position of Blocks:\")\n",
    "    print_board(final_board)\n",
    "    print(\"\\nTotal Number of Moves:\", num_moves)\n",
    "    print(\"\\nTotal Nodes Visited: \", nodes_visited)\n",
    "    print(\"\\nDisplaying Heatmap:\")\n",
    "    display_heatmap(final_board)\n",
    "else:\n",
    "    print(\"Cannot solve the puzzle with the given move.\")\n"
   ]
  },
  {
   "cell_type": "markdown",
   "id": "1bc16c63",
   "metadata": {},
   "source": [
    "# Method 6: Biderectional Search (BS)"
   ]
  },
  {
   "cell_type": "code",
   "execution_count": 17,
   "id": "8edd84d6",
   "metadata": {},
   "outputs": [
    {
     "name": "stdout",
     "output_type": "stream",
     "text": [
      "[(1, 'left'), (2, 'down')]\n",
      "[(4, 'left'), (3, 'up'), (4, 'left')]\n",
      "Final Position of Blocks:\n",
      "# # # #\n",
      "# # 4 4\n",
      "# # 2 3\n",
      "1 1 2 3\n",
      "\n",
      "Total Number of Moves: 5\n",
      "\n",
      "Total Nodes Visited:  13\n",
      "\n",
      "Displaying Heatmap:\n"
     ]
    },
    {
     "data": {
      "image/png": "[encoded data removed]",
      "text/plain": [
       "<Figure size 800x600 with 1 Axes>"
      ]
     },
     "metadata": {},
     "output_type": "display_data"
    }
   ],
   "source": [
    "def solve_bs(game):\n",
    "    start_board = convert_board(game)\n",
    "    goal_board = [[0, 0, 0, 0], [0, 0, 4, 4], [0, 0, 2, 3], [1, 1, 2, 3]]  \n",
    "    \n",
    "    start_visited = set()\n",
    "    start_queue = deque([(start_board, [])])\n",
    "    start_visited.add(tuple(map(tuple, start_board)))\n",
    "    \n",
    "    goal_visited = set()\n",
    "    goal_queue = deque([(goal_board, [])])\n",
    "    goal_visited.add(tuple(map(tuple, goal_board)))\n",
    "    \n",
    "    num_moves = 0\n",
    "    final_board = None\n",
    "    nodes_visited = 0\n",
    "    \n",
    "    while start_queue and goal_queue:\n",
    "        # Forward search from start state\n",
    "        current_board, moves1 = start_queue.popleft()\n",
    "        nodes_visited += 1\n",
    "        \n",
    "        if tuple(map(tuple, current_board)) in goal_visited:\n",
    "            final_board = current_board\n",
    "            num_moves = len(moves1)+len(moves2)\n",
    "            break\n",
    "        \n",
    "        for i in range(4):\n",
    "            block_index = i + 1\n",
    "            for direction in [\"up\", \"down\", \"left\", \"right\"]:\n",
    "                if is_valid_move(current_board, block_index, direction):\n",
    "                    new_board = move_block(current_board, block_index, direction)\n",
    "                    if tuple(map(tuple, new_board)) not in start_visited:\n",
    "                        start_queue.append((copy.deepcopy(new_board), moves1 + [(block_index, direction)]))\n",
    "                        start_visited.add(tuple(map(tuple, new_board)))\n",
    "                    revert_board(new_board, block_index, direction)\n",
    "        \n",
    "        # Backward search from goal state\n",
    "        current_board, moves2 = goal_queue.popleft()\n",
    "        nodes_visited += 1\n",
    "        \n",
    "        if tuple(map(tuple, current_board)) in start_visited:\n",
    "            final_board = current_board\n",
    "            num_moves = len(moves1)+len(moves2)\n",
    "            break\n",
    "        \n",
    "        for i in range(4):\n",
    "            block_index = i + 1\n",
    "            for direction in [\"up\", \"down\", \"left\", \"right\"]:\n",
    "                if is_valid_move(current_board, block_index, direction):\n",
    "                    new_board = move_block(current_board, block_index, direction)\n",
    "                    if tuple(map(tuple, new_board)) not in goal_visited:\n",
    "                        goal_queue.append((copy.deepcopy(new_board), moves2 + [(block_index, direction)]))\n",
    "                        goal_visited.add(tuple(map(tuple, new_board)))\n",
    "                    revert_board(new_board, block_index, direction)\n",
    "    \n",
    "    print(moves1)\n",
    "    print(moves2)\n",
    "    return goal_board, num_moves, nodes_visited\n",
    "\n",
    "final_board, num_moves, nodes_visited = solve_bs(game)\n",
    "\n",
    "if final_board is not None:\n",
    "    print(\"Final Position of Blocks:\")\n",
    "    print_board(final_board)\n",
    "    print(\"\\nTotal Number of Moves:\", num_moves)\n",
    "    print(\"\\nTotal Nodes Visited: \", nodes_visited)\n",
    "    print(\"\\nDisplaying Heatmap:\")\n",
    "    display_heatmap(final_board)\n",
    "else:\n",
    "    print(\"Cannot solve the puzzle with the given move.\")\n"
   ]
  },
  {
   "cell_type": "markdown",
   "id": "f96e29a5",
   "metadata": {},
   "source": [
    "# Method 7: Iterative Deepening Depth-First Search (IDDFS)"
   ]
  },
  {
   "cell_type": "code",
   "execution_count": null,
   "id": "7015de5c",
   "metadata": {},
   "outputs": [],
   "source": [
    "def solve_iddfs(game):\n",
    "    start_board = convert_board(game)\n",
    "    goal_board = [[0, 0, 0, 0], [0, 0, 4, 4], [0, 0, 2, 3], [1, 1, 2, 3]]  \n",
    "    \n",
    "    num_moves = 0\n",
    "    final_board = None\n",
    "    nodes_visited = 0\n",
    "    \n",
    "    depth_limit = 0\n",
    "    while True:\n",
    "        result = iddfs_helper(start_board, goal_board, depth_limit)\n",
    "        if result is not None:\n",
    "            final_board, moves, nodes_visited = result\n",
    "            num_moves = len(moves)\n",
    "            break\n",
    "        depth_limit += 1\n",
    "    \n",
    "    return final_board, num_moves, nodes_visited\n",
    "\n",
    "def iddfs_helper(start_board, goal_board, depth_limit):\n",
    "    visited = set()\n",
    "    stack = deque([(start_board, [])])\n",
    "    nodes_visited = 0\n",
    "    \n",
    "    while stack:\n",
    "        current_board, moves = stack.pop()\n",
    "        nodes_visited += 1\n",
    "        \n",
    "        if current_board == goal_board:\n",
    "            return current_board, moves, nodes_visited\n",
    "        \n",
    "        if len(moves) < depth_limit:\n",
    "            for i in range(4):\n",
    "                block_index = i + 1\n",
    "                for direction in [\"up\", \"down\", \"left\", \"right\"]:\n",
    "                    if is_valid_move(current_board, block_index, direction):\n",
    "                        new_board = move_block(current_board, block_index, direction)\n",
    "                        if tuple(map(tuple, new_board)) not in visited:\n",
    "                            stack.append((new_board, moves + [(block_index, direction)]))\n",
    "                            visited.add(tuple(map(tuple, new_board)))\n",
    "                        revert_board(new_board, block_index, direction)\n",
    "    \n",
    "    return None\n",
    "\n",
    "final_board, num_moves, nodes_visited = solve_iddfs(game)\n",
    "\n",
    "if final_board is not None:\n",
    "    print(\"Final Position of Blocks:\")\n",
    "    print_board(final_board)\n",
    "    print(\"\\nTotal Number of Moves:\", num_moves)\n",
    "    print(\"\\nTotal Nodes Visited: \", nodes_visited)\n",
    "    print(\"\\nDisplaying Heatmap:\")\n",
    "    display_heatmap(final_board)\n",
    "else:\n",
    "    print(\"Cannot solve the puzzle with the given move.\")\n"
   ]
  },
  {
   "cell_type": "markdown",
   "id": "1ffb94ac",
   "metadata": {},
   "source": [
    "# Displaying Graph (这个先不要理）"
   ]
  },
  {
   "cell_type": "code",
   "execution_count": null,
   "id": "5b9547a1",
   "metadata": {},
   "outputs": [],
   "source": [
    "# Helper functions to display a Graph\n",
    "\n",
    "def showBinaryMazeGraph(board):\n",
    "    ''' Display a graph using networkx\n",
    "        Input : MazeGraph from 2D maze\n",
    "        Output : Input graph displayed\n",
    "    '''\n",
    "    edgeDict = board.all_edges()\n",
    "    edgeList = []\n",
    "    for node in edgeDict:\n",
    "        for neighbor, weight in edgeDict[node]:\n",
    "            edgeList.append((node,neighbor, {'weight': weight}))\n",
    "\n",
    "    G = nx.Graph()\n",
    "    G.add_edges_from(edgeList)\n",
    "\n",
    "    f = plt.figure(figsize = (40,40))\n",
    "    pos = nx.spring_layout(G)\n",
    "\n",
    "    nx.draw_networkx_nodes(G, pos, node_size = 2000)\n",
    "    nx.draw_networkx_edges(G, pos, width = 2)\n",
    "    nx.draw_networkx_labels(G, pos, font_size = 10)\n",
    "\n",
    "    plt.axis(\"off\")\n",
    "    plt.show()"
   ]
  },
  {
   "cell_type": "code",
   "execution_count": null,
   "id": "8dc72f1c",
   "metadata": {},
   "outputs": [],
   "source": []
  }
 ],
 "metadata": {
  "kernelspec": {
   "display_name": "Python 3 (ipykernel)",
   "language": "python",
   "name": "python3"
  },
  "language_info": {
   "codemirror_mode": {
    "name": "ipython",
    "version": 3
   },
   "file_extension": ".py",
   "mimetype": "text/x-python",
   "name": "python",
   "nbconvert_exporter": "python",
   "pygments_lexer": "ipython3",
   "version": "3.11.5"
  }
 },
 "nbformat": 4,
 "nbformat_minor": 5
}
